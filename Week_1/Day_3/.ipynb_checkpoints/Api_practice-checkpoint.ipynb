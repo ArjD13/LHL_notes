{
 "cells": [
  {
   "cell_type": "code",
   "execution_count": 3,
   "metadata": {
    "collapsed": true
   },
   "outputs": [],
   "source": [
    "import requests as re\n",
    "import os\n"
   ]
  },
  {
   "cell_type": "code",
   "execution_count": 2,
   "metadata": {
    "collapsed": false
   },
   "outputs": [
    {
     "data": {
      "text/plain": [
       "<function os.getenv(key, default=None)>"
      ]
     },
     "execution_count": 2,
     "metadata": {},
     "output_type": "execute_result"
    }
   ],
   "source": [
    "os.getenv"
   ]
  },
  {
   "cell_type": "code",
   "execution_count": 6,
   "metadata": {
    "collapsed": false
   },
   "outputs": [
    {
     "name": "stdout",
     "output_type": "stream",
     "text": [
      "BDL44J44M3O25F1NZGGLVTEIAK4FSD4FETPP4QZGOCFWADYH\n",
      "1E0OTSXXLNANK31JCWJUJ1LHWIT3L32DWIVSSXDPRZXJ3DMH\n"
     ]
    }
   ],
   "source": [
    "client_id = os.getenv(\"FOURSQUARE_CLIENT_ID\")\n",
    "client_secret = os.getenv(\"FOURSQUARE_CLIENT_SECRET\")\n",
    "print(client_secret)\n",
    "print(client_id)"
   ]
  },
  {
   "cell_type": "code",
   "execution_count": 4,
   "metadata": {
    "collapsed": true
   },
   "outputs": [],
   "source": [
    "location = \"Toronto,Canada\"\n",
    "v = \"20200731\""
   ]
  },
  {
   "cell_type": "code",
   "execution_count": 5,
   "metadata": {
    "collapsed": true
   },
   "outputs": [],
   "source": [
    "url = \"https://api.foursquare.com/v2/venues/search?near=\"+location+\"&client_id=\"+client_id+\"&client_secret=\"+client_secret+\"&v=\"+v"
   ]
  },
  {
   "cell_type": "code",
   "execution_count": 6,
   "metadata": {
    "collapsed": false
   },
   "outputs": [
    {
     "name": "stdout",
     "output_type": "stream",
     "text": [
      "/Users/arjunduggal/anaconda/bin:/Users/arjunduggal/anaconda/condabin:/Library/Frameworks/Python.framework/Versions/3.8/bin:/Library/Frameworks/Python.framework/Versions/3.7/bin:/Library/Frameworks/Python.framework/Versions/3.6/bin:/usr/local/bin:/usr/bin:/bin:/usr/sbin:/sbin:/opt/X11/bin\n"
     ]
    }
   ],
   "source": [
    "print(os.environ['PATH'])"
   ]
  },
  {
   "cell_type": "code",
   "execution_count": 7,
   "metadata": {
    "collapsed": false
   },
   "outputs": [
    {
     "name": "stdout",
     "output_type": "stream",
     "text": [
      "https://api.foursquare.com/v2/venues/search?near=Toronto,Canada&client_id=1E0OTSXXLNANK31JCWJUJ1LHWIT3L32DWIVSSXDPRZXJ3DMH&client_secret=BDL44J44M3O25F1NZGGLVTEIAK4FSD4FETPP4QZGOCFWADYH&v=20200731\n"
     ]
    }
   ],
   "source": [
    "print(url)"
   ]
  },
  {
   "cell_type": "code",
   "execution_count": 8,
   "metadata": {
    "collapsed": false
   },
   "outputs": [
    {
     "name": "stdout",
     "output_type": "stream",
     "text": [
      "<Response [200]>\n"
     ]
    }
   ],
   "source": [
    "res = re.get(url)\n",
    "print(res)"
   ]
  },
  {
   "cell_type": "code",
   "execution_count": 4,
   "metadata": {
    "collapsed": false
   },
   "outputs": [
    {
     "name": "stdout",
     "output_type": "stream",
     "text": [
      "MZirtApuu2NkXZndoX8Tuqvdv\n"
     ]
    }
   ],
   "source": [
    "twitter_id = os.environ[\"TWITTER_API_KEY\"]\n",
    "print(twitter_id)"
   ]
  },
  {
   "cell_type": "code",
   "execution_count": 5,
   "metadata": {
    "collapsed": false
   },
   "outputs": [
    {
     "name": "stdout",
     "output_type": "stream",
     "text": [
      "MZirtApuu2NkXZndoX8Tuqvdv\n"
     ]
    }
   ],
   "source": [
    "print(twitter_id)"
   ]
  },
  {
   "cell_type": "code",
   "execution_count": 1,
   "metadata": {
    "collapsed": false
   },
   "outputs": [
    {
     "name": "stdout",
     "output_type": "stream",
     "text": [
      "TERM_PROGRAM=Apple_Terminal\r\n",
      "TERM=xterm-color\r\n",
      "SHELL=/bin/zsh\r\n",
      "CLICOLOR=1\r\n",
      "TMPDIR=/var/folders/sf/8t52r4nd1_70s4n8vcfxwfz40000gn/T/\r\n",
      "CONDA_SHLVL=1\r\n",
      "TERM_PROGRAM_VERSION=440\r\n",
      "CONDA_PROMPT_MODIFIER=(base) \r\n",
      "TERM_SESSION_ID=119F0FD0-2DEF-4B62-8765-18F3C0320983\r\n",
      "USER=arjunduggal\r\n",
      "CONDA_EXE=/Users/arjunduggal/anaconda/bin/conda\r\n",
      "SSH_AUTH_SOCK=/private/tmp/com.apple.launchd.ilSh2J9OVc/Listeners\r\n",
      "__CF_USER_TEXT_ENCODING=0x1F5:0x0:0x52\r\n",
      "JPY_PARENT_PID=6206\r\n",
      "PAGER=cat\r\n",
      "_CE_CONDA=\r\n",
      "PATH=/Users/arjunduggal/anaconda/bin:/Users/arjunduggal/anaconda/bin:/Users/arjunduggal/anaconda/condabin:/Library/Frameworks/Python.framework/Versions/3.8/bin:/Library/Frameworks/Python.framework/Versions/3.7/bin:/Library/Frameworks/Python.framework/Versions/3.6/bin:/usr/local/bin:/usr/bin:/bin:/usr/sbin:/sbin:/opt/X11/bin\r\n",
      "_=/usr/bin/printenv\r\n",
      "__CFBundleIdentifier=com.apple.Terminal\r\n",
      "CONDA_PREFIX=/Users/arjunduggal/anaconda\r\n",
      "PWD=/Users/arjunduggal/Desktop/lighthouse-data-notes/Week_1/Day_3\r\n",
      "MPLBACKEND=module://ipykernel.pylab.backend_inline\r\n",
      "LANG=en_CA.UTF-8\r\n",
      "XPC_FLAGS=0x0\r\n",
      "XPC_SERVICE_NAME=0\r\n",
      "_CE_M=\r\n",
      "HOME=/Users/arjunduggal\r\n",
      "SHLVL=2\r\n",
      "FOURSQUARE_CLIENT_SECRET=BDL44J44M3O25F1NZGGLVTEIAK4FSD4FETPP4QZGOCFWADYH\r\n",
      "LOGNAME=arjunduggal\r\n",
      "CONDA_PYTHON_EXE=/Users/arjunduggal/anaconda/bin/python\r\n",
      "CONDA_DEFAULT_ENV=base\r\n",
      "DISPLAY=/private/tmp/com.apple.launchd.GxwmYNRZ5k/org.macosforge.xquartz:0\r\n",
      "FOURSQUARE_CLIENT_ID=1E0OTSXXLNANK31JCWJUJ1LHWIT3L32DWIVSSXDPRZXJ3DMH\r\n",
      "GIT_PAGER=cat\r\n"
     ]
    }
   ],
   "source": [
    "!printenv"
   ]
  },
  {
   "cell_type": "code",
   "execution_count": null,
   "metadata": {
    "collapsed": true
   },
   "outputs": [],
   "source": []
  }
 ],
 "metadata": {
  "kernelspec": {
   "display_name": "Python 3",
   "language": "python",
   "name": "python3"
  },
  "language_info": {
   "codemirror_mode": {
    "name": "ipython",
    "version": 3
   },
   "file_extension": ".py",
   "mimetype": "text/x-python",
   "name": "python",
   "nbconvert_exporter": "python",
   "pygments_lexer": "ipython3",
   "version": "3.6.0"
  }
 },
 "nbformat": 4,
 "nbformat_minor": 4
}
